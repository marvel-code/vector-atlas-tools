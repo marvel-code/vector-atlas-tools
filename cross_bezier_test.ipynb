{
 "cells": [
  {
   "cell_type": "code",
   "execution_count": 2,
   "id": "8acb7aba",
   "metadata": {},
   "outputs": [],
   "source": [
    "import utils as u"
   ]
  },
  {
   "cell_type": "code",
   "execution_count": null,
   "id": "57eb849b",
   "metadata": {},
   "outputs": [],
   "source": []
  },
  {
   "cell_type": "code",
   "execution_count": 3,
   "id": "9dfd8c01",
   "metadata": {},
   "outputs": [
    {
     "ename": "NameError",
     "evalue": "name 'Path' is not defined",
     "output_type": "error",
     "traceback": [
      "\u001b[1;31m---------------------------------------------------------------------------\u001b[0m",
      "\u001b[1;31mNameError\u001b[0m                                 Traceback (most recent call last)",
      "\u001b[1;32m~\\AppData\\Local\\Temp/ipykernel_3532/322213775.py\u001b[0m in \u001b[0;36m<module>\u001b[1;34m\u001b[0m\n\u001b[0;32m      9\u001b[0m ]\n\u001b[0;32m     10\u001b[0m codes = [\n\u001b[1;32m---> 11\u001b[1;33m     \u001b[0mPath\u001b[0m\u001b[1;33m.\u001b[0m\u001b[0mMOVETO\u001b[0m\u001b[1;33m,\u001b[0m\u001b[1;33m\u001b[0m\u001b[1;33m\u001b[0m\u001b[0m\n\u001b[0m\u001b[0;32m     12\u001b[0m     \u001b[0mPath\u001b[0m\u001b[1;33m.\u001b[0m\u001b[0mLINETO\u001b[0m\u001b[1;33m,\u001b[0m\u001b[1;33m\u001b[0m\u001b[1;33m\u001b[0m\u001b[0m\n\u001b[0;32m     13\u001b[0m     \u001b[0mPath\u001b[0m\u001b[1;33m.\u001b[0m\u001b[0mLINETO\u001b[0m\u001b[1;33m,\u001b[0m\u001b[1;33m\u001b[0m\u001b[1;33m\u001b[0m\u001b[0m\n",
      "\u001b[1;31mNameError\u001b[0m: name 'Path' is not defined"
     ]
    }
   ],
   "source": [
    "# Rectangle\n",
    "rectangle = [0, 0, 1, 1]\n",
    "verts = [\n",
    "   (rectangle[0], rectangle[1]),  # left, bottom\n",
    "   (rectangle[0], rectangle[3]),  # left, top\n",
    "   (rectangle[2], rectangle[3]),  # right, top\n",
    "   (rectangle[2], rectangle[1]),  # right, bottom\n",
    "   (0., 0.),  # ignored\n",
    "]\n",
    "codes = [\n",
    "    Path.MOVETO,\n",
    "    Path.LINETO,\n",
    "    Path.LINETO,\n",
    "    Path.LINETO,\n",
    "    Path.CLOSEPOLY,\n",
    "]\n",
    "path = Path(verts, codes)\n",
    "fig, ax = plt.subplots()\n",
    "patch = patches.PathPatch(path, facecolor='white', lw=1)\n",
    "ax.add_patch(patch)\n",
    "ax.set_xlim(-1, 2)\n",
    "ax.set_ylim(-1, 2)\n",
    "\n",
    "# Bezier\n",
    "b = [(1.1,1),(0.5,1),(2,2)]\n",
    "p = [u.calc_bezier(b, t/100.) for t in range(0, 100)]\n",
    "x = list(map(lambda p: p[0], p))\n",
    "y = list(map(lambda p: p[1], p))\n",
    "plt.plot(x,y)\n",
    "\n",
    "# Show\n",
    "print(u.is_bezier_crossing_cell(b, rectangle))\n",
    "plt.show()"
   ]
  },
  {
   "cell_type": "code",
   "execution_count": 10,
   "id": "7853cb37",
   "metadata": {},
   "outputs": [
    {
     "name": "stdout",
     "output_type": "stream",
     "text": [
      "[0, 0, 255, 255]\n"
     ]
    }
   ],
   "source": [
    "\n",
    "def convert_short_to_bytes(x):\n",
    "    return [int(x / 256), x % 256]\n",
    "\n",
    "p = [0, 1]\n",
    "x_bytes = convert_short_to_bytes(int(p[0] * 0xffff))\n",
    "y_bytes = convert_short_to_bytes(int(p[1] * 0xffff))\n",
    "print(x_bytes + y_bytes)"
   ]
  },
  {
   "cell_type": "code",
   "execution_count": null,
   "id": "d7278c06",
   "metadata": {},
   "outputs": [],
   "source": []
  }
 ],
 "metadata": {
  "kernelspec": {
   "display_name": "Python 3 (ipykernel)",
   "language": "python",
   "name": "python3"
  },
  "language_info": {
   "codemirror_mode": {
    "name": "ipython",
    "version": 3
   },
   "file_extension": ".py",
   "mimetype": "text/x-python",
   "name": "python",
   "nbconvert_exporter": "python",
   "pygments_lexer": "ipython3",
   "version": "3.9.0"
  }
 },
 "nbformat": 4,
 "nbformat_minor": 5
}
